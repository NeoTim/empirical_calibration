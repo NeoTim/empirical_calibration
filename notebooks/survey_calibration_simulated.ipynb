{
  "cells": [
    {
      "cell_type": "markdown",
      "metadata": {
        "colab_type": "text",
        "id": "XhdK9tifRPYR"
      },
      "source": [
        "This is a toy example of using empirical calibration for survey calibration."
      ]
    },
    {
      "cell_type": "code",
      "execution_count": 0,
      "metadata": {
        "cellView": "form",
        "colab": {},
        "colab_type": "code",
        "id": "NBeKkRlhq1-Q"
      },
      "outputs": [],
      "source": [
        "#@title Copyright 2019 The Empirical Calibration Authors.\n",
        "# Licensed under the Apache License, Version 2.0 (the \"License\");\n",
        "# you may not use this file except in compliance with the License.\n",
        "# You may obtain a copy of the License at\n",
        "#\n",
        "#     https://www.apache.org/licenses/LICENSE-2.0\n",
        "#\n",
        "# Unless required by applicable law or agreed to in writing, software\n",
        "# distributed under the License is distributed on an \"AS IS\" BASIS,\n",
        "# WITHOUT WARRANTIES OR CONDITIONS OF ANY KIND, either express or implied.\n",
        "# See the License for the specific language governing permissions and\n",
        "# limitations under the License.\n",
        "# ============================================================================"
      ]
    },
    {
      "cell_type": "markdown",
      "metadata": {
        "colab_type": "text",
        "id": "rLVCPSCxCJez"
      },
      "source": [
        "\u003ctable align=\"left\"\u003e\n",
        "  \u003ctd\u003e\n",
        "    \u003ca target=\"_blank\" href=\"https://colab.research.google.com/github/google/empirical_calibration/blob/master/notebooks/survey_calibration_simulated.ipynb\"\u003e\u003cimg src=\"https://www.tensorflow.org/images/colab_logo_32px.png\" /\u003eRun in Google Colab\u003c/a\u003e\n",
        "  \u003c/td\u003e\n",
        "  \u003ctd\u003e\n",
        "    \u003ca target=\"_blank\" href=\"https://github.com/google/empirical_calibration/blob/master/notebooks/survey_calibration_simulated.ipynb\"\u003e\u003cimg src=\"https://www.tensorflow.org/images/GitHub-Mark-32px.png\" /\u003eView source on GitHub\u003c/a\u003e\n",
        "  \u003c/td\u003e\n",
        "\u003c/table\u003e"
      ]
    },
    {
      "cell_type": "markdown",
      "metadata": {
        "colab_type": "text",
        "id": "VGDMBD7TRIf4"
      },
      "source": [
        "## Imports"
      ]
    },
    {
      "cell_type": "code",
      "execution_count": 0,
      "metadata": {
        "colab": {},
        "colab_type": "code",
        "id": "hzy_rdy7WXyS"
      },
      "outputs": [],
      "source": [
        "from matplotlib import pyplot as plt\n",
        "import numpy as np\n",
        "import pandas as pd\n",
        "import seaborn as sns\n",
        "sns.set_style('whitegrid')\n",
        "%config InlineBackend.figure_format='retina'\n",
        "\n",
        "#install and import ec\n",
        "\n",
        "!pip install -q git+https://github.com/google/empirical_calibration
import  empirical_calibration as ec"
      ]
    },
    {
      "cell_type": "markdown",
      "metadata": {
        "colab_type": "text",
        "id": "D8orhXBdZq9l"
      },
      "source": [
        "## Selection Bias"
      ]
    },
    {
      "cell_type": "markdown",
      "metadata": {
        "colab_type": "text",
        "id": "N2BGbpoHcLOc"
      },
      "source": [
        "Generate a population of size 1000."
      ]
    },
    {
      "cell_type": "code",
      "execution_count": 0,
      "metadata": {
        "colab": {
          "height": 34
        },
        "colab_type": "code",
        "executionInfo": {
          "elapsed": 266,
          "status": "ok",
          "timestamp": 1562597634220,
          "user": {
            "displayName": "",
            "photoUrl": "",
            "userId": ""
          },
          "user_tz": 240
        },
        "id": "aJ9oaJ4VeD2b",
        "outputId": "ce9e65f4-4d69-40af-9d12-65914e3ed73f"
      },
      "outputs": [
        {
          "name": "stdout",
          "output_type": "stream",
          "text": [
            "true population mean is 25.0114142022.\n"
          ]
        }
      ],
      "source": [
        "np.random.seed(123)\n",
        "N = 1000  # population size.\n",
        "df_population = pd.DataFrame({\n",
        "    'x1': np.repeat(['F', 'F', 'M', 'M'], repeats=N),\n",
        "    'x2': np.repeat(['H', 'L', 'H', 'L'], repeats=N),\n",
        "    'y': (np.repeat([1e1, 2e1, 3e1, 4e1], repeats=N) +\n",
        "          np.random.normal(size=4*N)),\n",
        "    'response_rate': np.repeat([1.0e-2, 1.1e-2, 1.2e-2, 1.3e-2],\n",
        "                               repeats=N)\n",
        "})\n",
        "true_mean = df_population['y'].mean()\n",
        "print('true population mean is {}.'.format(true_mean))"
      ]
    },
    {
      "cell_type": "markdown",
      "metadata": {
        "colab_type": "text",
        "id": "utqFsTLJEUjP"
      },
      "source": [
        "Define a function that draws a sample and calculates the estimates of mean."
      ]
    },
    {
      "cell_type": "code",
      "execution_count": 0,
      "metadata": {
        "colab": {},
        "colab_type": "code",
        "id": "CkmBwMobdm2A"
      },
      "outputs": [],
      "source": [
        "def simulate(seed):\n",
        "  \"\"\"Draws sample and calculates (un)weighted estimates.\"\"\"\n",
        "  np.random.seed(seed)\n",
        "  responded = (np.random.uniform(size=4*N) \u003c=\n",
        "               df_population['response_rate'])\n",
        "  df_sample = df_population.loc[responded]\n",
        "  weights, _ = ec.from_formula(\n",
        "      formula='~x1+x2',\n",
        "      df=df_sample,\n",
        "      target_df=df_population,\n",
        "      objective=ec.Objective.QUADRATIC)\n",
        "  return pd.Series({\n",
        "      'n': df_sample.shape[0],\n",
        "      'unweighted': df_sample['y'].mean(),\n",
        "      'weighted': df_sample['y'].mul(weights).sum()})"
      ]
    },
    {
      "cell_type": "code",
      "execution_count": 0,
      "metadata": {
        "colab": {
          "height": 86
        },
        "colab_type": "code",
        "executionInfo": {
          "elapsed": 374,
          "status": "ok",
          "timestamp": 1562597635027,
          "user": {
            "displayName": "",
            "photoUrl": "",
            "userId": ""
          },
          "user_tz": 240
        },
        "id": "CRB-gGkpWcNu",
        "outputId": "1f0b4f6d-54d1-4785-e9d9-c61b68fde9da"
      },
      "outputs": [
        {
          "data": {
            "text/plain": [
              "n             58.000000\n",
              "unweighted    27.434867\n",
              "weighted      25.135381\n",
              "dtype: float64"
            ]
          },
          "execution_count": 14,
          "metadata": {
            "tags": []
          },
          "output_type": "execute_result"
        }
      ],
      "source": [
        "# Try it out.\n",
        "simulate(123)"
      ]
    },
    {
      "cell_type": "code",
      "execution_count": 0,
      "metadata": {
        "colab": {},
        "colab_type": "code",
        "id": "BlwdzFnfetYi"
      },
      "outputs": [],
      "source": [
        "# Do it 1000 times and collect results.\n",
        "result = pd.DataFrame(simulate(seed) for seed in range(1000))"
      ]
    },
    {
      "cell_type": "code",
      "execution_count": 0,
      "metadata": {
        "colab": {
          "height": 51
        },
        "colab_type": "code",
        "executionInfo": {
          "elapsed": 243,
          "status": "ok",
          "timestamp": 1562597719097,
          "user": {
            "displayName": "",
            "photoUrl": "",
            "userId": ""
          },
          "user_tz": 240
        },
        "id": "aaZYjzvn_w7s",
        "outputId": "5a9c8837-d4e5-4612-e773-bbf10458da0e"
      },
      "outputs": [
        {
          "name": "stdout",
          "output_type": "stream",
          "text": [
            "unweighted rmse is 1.99259828407\n",
            "weighted rmse is 0.150640397789\n"
          ]
        }
      ],
      "source": [
        "# Calculate rmse.\n",
        "print('unweighted rmse is {}'.format(\n",
        "    np.sqrt(np.mean((result['unweighted']-true_mean)**2))))\n",
        "\n",
        "print('weighted rmse is {}'.format(\n",
        "    np.sqrt(np.mean((result['weighted']-true_mean)**2))))"
      ]
    },
    {
      "cell_type": "code",
      "execution_count": 0,
      "metadata": {
        "colab": {
          "height": 502
        },
        "colab_type": "code",
        "executionInfo": {
          "elapsed": 829,
          "status": "ok",
          "timestamp": 1562597720682,
          "user": {
            "displayName": "",
            "photoUrl": "",
            "userId": ""
          },
          "user_tz": 240
        },
        "id": "qyTeGKSF6dMT",
        "outputId": "a2d055ca-aa5e-4f61-c29e-9533afb51124"
      },
      "outputs": [
        {
          "data": {
            "image/png": "[encoded data removed]",
            "text/plain": [
              "\u003cmatplotlib.figure.Figure at 0x7f782f2dab10\u003e"
            ]
          },
          "metadata": {
            "image/png": {
              "height": 485,
              "width": 722
            },
            "tags": []
          },
          "output_type": "display_data"
        }
      ],
      "source": [
        "# visually compare unweighted vs weighted estimates.\n",
        "def compare_estimates(unweighted, weighted, truth,\n",
        "                      figsize=(12, 8),\n",
        "                      fontsize=22,\n",
        "                      output_path=None):\n",
        "  f = plt.figure(figsize=figsize)\n",
        "  plt.rcParams.update({'font.size': fontsize})\n",
        "  plt.hist(unweighted,\n",
        "           alpha=0.4,\n",
        "           color='orange',\n",
        "           edgecolor='none',\n",
        "           label='unweighted')\n",
        "  plt.hist(weighted,\n",
        "           alpha=0.4,\n",
        "           color='blue',\n",
        "           edgecolor='none',\n",
        "           label='weighted')\n",
        "  plt.axvline(truth, linestyle='dashed', color='red')\n",
        "  plt.legend(loc='upper left')\n",
        "  plt.show()\n",
        "  if output_path is not None:\n",
        "     f.savefig(output_path, bbox_inches='tight')\n",
        "\n",
        "compare_estimates(unweighted=result['unweighted'],\n",
        "                  weighted=result['weighted'],\n",
        "                  truth=true_mean)"
      ]
    }
  ],
  "metadata": {
    "colab": {
      "collapsed_sections": [],
      "last_runtime": {
        "build_target": "//research/colab/notebook:notebook_backend",
        "kind": "private"
      },
      "name": "survey_calibration_simulated.ipynb",
      "provenance": [],
      "version": "0.3.2"
    },
    "kernelspec": {
      "display_name": "Python 2",
      "name": "python2"
    }
  },
  "nbformat": 4,
  "nbformat_minor": 0
}
